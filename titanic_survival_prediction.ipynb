{
 "cells": [
  {
   "cell_type": "markdown",
   "id": "bacfc551-1999-4b20-932b-e3f571eef175",
   "metadata": {},
   "source": [
    "# <div align=\"center\">**Table of Contents**\n",
    "1. [<span style=\"color:green\">**About This Dataset**](#1)<br>\n",
    "2. [<span style=\"color:green\">**Import Libraries**](#2)<br>\n",
    "3. [<span style=\"color:green\">**Data Analysis**](#3)<br>\n",
    "4. [<span style=\"color:green\">**Data Preparation**](#4)<br> \n",
    "5. [<span style=\"color:green\">**Model**](#5)<br> \n",
    "6. [<span style=\"color:green\">**Test Data**](#6)<br> \n",
    "7. [<span style=\"color:green\">**Summary**](#6)<br> "
   ]
  },
  {
   "cell_type": "markdown",
   "id": "471171a5-8e2e-4017-9c10-5cf19778e49b",
   "metadata": {},
   "source": [
    "# <span style=\"color:green\"><div align=\"center\">**About This Dataset** <a  name=\"1\"></a>"
   ]
  },
  {
   "cell_type": "markdown",
   "id": "80bdb6c5-1224-497e-b42a-08b7ff972aef",
   "metadata": {},
   "source": [
    "The competition is simple: use machine learning to create a model that predicts which passengers survived the Titanic shipwreck.\n",
    "\n",
    "### **Overview** <br>\n",
    "The data has been split into two groups:\n",
    "\n",
    "- training set (train.csv)\n",
    "- test set (test.csv)\n",
    "\n",
    "The training set should be used to build your machine learning models. For the training set, we provide the outcome (also known as the “ground truth”) for each passenger. Your model will be based on “features” like passengers’ gender and class. You can also use feature engineering to create new features.\n",
    "\n",
    "The test set should be used to see how well your model performs on unseen data. For the test set, we do not provide the ground truth for each passenger. It is your job to predict these outcomes. For each passenger in the test set, use the model you trained to predict whether or not they survived the sinking of the Titanic.\n",
    "\n",
    "We also include gender_submission.csv, a set of predictions that assume all and only female passengers survive, as an example of what a submission file should look like. <br> \n",
    "\n",
    "### **Data Dictionary** <br>\n",
    "\n",
    "| Variable | Definition                                 | Key                                            |\n",
    "|----------|--------------------------------------------|------------------------------------------------|\n",
    "| survival | Survival                                   | 0 = No, 1 = Yes                                |\n",
    "| pclass   | Ticket class                               | 1 = 1st, 2 = 2nd, 3 = 3rd                      |\n",
    "| sex      | Sex                                        |                                                |\n",
    "| Age      | Age in years                               |                                                |\n",
    "| sibsp    | # of siblings / spouses aboard the Titanic |                                                |\n",
    "| parch    | # of parents / children aboard the Titanic |                                                |\n",
    "| ticket   | Ticket number                              |                                                |\n",
    "| fare     | Passenger fare                             |                                                |\n",
    "| cabin    | Cabin number                               |                                                |\n",
    "| embarked | Port of Embarkation                        | C = Cherbourg, Q = Queenstown, S = Southampton |\n",
    "\n",
    "\n",
    "\n",
    "### **Variable Notes** <br> \n",
    "pclass: A proxy for socio-economic status (SES) <br>\n",
    "1st = Upper <br>\n",
    "2nd = Middle <br> \n",
    "3rd = Lower <br>\n",
    "\n",
    "age: Age is fractional if less than 1. If the age is estimated, is it in the form of xx.5\n",
    "\n",
    "sibsp: The dataset defines family relations in this way... <br>\n",
    "Sibling = brother, sister, stepbrother, stepsister <br>\n",
    "Spouse = husband, wife (mistresses and fiancés were ignored) <br>\n",
    "\n",
    "parch: The dataset defines family relations in this way... <br>\n",
    "Parent = mother, father <br>\n",
    "Child = daughter, son, stepdaughter, stepson <br>\n",
    "Some children travelled only with a nanny, therefore parch=0 for them.\n",
    "\n",
    "\n",
    "Source: https://www.kaggle.com/c/titanic/overview"
   ]
  },
  {
   "cell_type": "markdown",
   "id": "4c81e6c5-0ab2-4068-b3f4-02177b3f1fb4",
   "metadata": {},
   "source": [
    "# <span style=\"color:green\"><div align=\"center\">**Import Libraries** <a  name=\"2\"></a>"
   ]
  },
  {
   "cell_type": "code",
   "execution_count": null,
   "id": "9d4fe9df-1ac7-4655-82a4-6534e7d0f7b6",
   "metadata": {},
   "outputs": [],
   "source": []
  },
  {
   "cell_type": "markdown",
   "id": "87c934e3-14a9-4cba-827e-377e6f4b2c0b",
   "metadata": {},
   "source": [
    "# <span style=\"color:green\"><div align=\"center\">**Data Analysis** <a  name=\"3\"></a>"
   ]
  },
  {
   "cell_type": "code",
   "execution_count": null,
   "id": "091d82a8-7aa1-44c6-a1e4-4e8c6f5775f3",
   "metadata": {},
   "outputs": [],
   "source": []
  },
  {
   "cell_type": "markdown",
   "id": "8e105fec-883e-4e71-9617-96749f69a243",
   "metadata": {},
   "source": [
    "# <span style=\"color:green\"><div align=\"center\">**Data Preparation** <a  name=\"4\"></a>"
   ]
  },
  {
   "cell_type": "code",
   "execution_count": null,
   "id": "c292d0ac-c154-445a-a540-cdedf77f63cf",
   "metadata": {},
   "outputs": [],
   "source": []
  },
  {
   "cell_type": "markdown",
   "id": "8236d588-4969-404f-98da-0df9b9832280",
   "metadata": {},
   "source": [
    "# <span style=\"color:green\"><div align=\"center\">**Model** <a  name=\"5\"></a>"
   ]
  },
  {
   "cell_type": "code",
   "execution_count": null,
   "id": "c0c4c53f-8e84-4e97-9872-c08c67d184bb",
   "metadata": {},
   "outputs": [],
   "source": []
  },
  {
   "cell_type": "markdown",
   "id": "cdc36175-3205-4d9f-8a55-b19a8b7c154d",
   "metadata": {},
   "source": [
    "# <span style=\"color:green\"><div align=\"center\">**Test Data** <a  name=\"6\"></a>"
   ]
  },
  {
   "cell_type": "code",
   "execution_count": null,
   "id": "7ed9bae2-14e1-4be3-9a92-54f1d475f93a",
   "metadata": {},
   "outputs": [],
   "source": []
  },
  {
   "cell_type": "markdown",
   "id": "cc43fe4a-cb19-4333-8099-994c0bb9fa65",
   "metadata": {},
   "source": [
    "# <span style=\"color:green\"><div align=\"center\">**Summary** <a  name=\"7\"></a>"
   ]
  },
  {
   "cell_type": "code",
   "execution_count": null,
   "id": "7e560a1c-66d1-427d-a56d-0533dac5ceec",
   "metadata": {},
   "outputs": [],
   "source": []
  }
 ],
 "metadata": {
  "kernelspec": {
   "display_name": "Python 3",
   "language": "python",
   "name": "python3"
  },
  "language_info": {
   "codemirror_mode": {
    "name": "ipython",
    "version": 3
   },
   "file_extension": ".py",
   "mimetype": "text/x-python",
   "name": "python",
   "nbconvert_exporter": "python",
   "pygments_lexer": "ipython3",
   "version": "3.8.8"
  }
 },
 "nbformat": 4,
 "nbformat_minor": 5
}
